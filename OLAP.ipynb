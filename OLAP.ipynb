{
 "cells": [
  {
   "cell_type": "code",
   "execution_count": 1,
   "id": "6da6a8de",
   "metadata": {},
   "outputs": [
    {
     "name": "stdout",
     "output_type": "stream",
     "text": [
      "0\n",
      "1\n",
      "2\n",
      "3\n",
      "4\n",
      "5\n",
      "6\n",
      "7\n",
      "8\n",
      "9\n"
     ]
    }
   ],
   "source": [
    "for i in range(10):\n",
    "    print(i)"
   ]
  },
  {
   "cell_type": "code",
   "execution_count": 2,
   "id": "8ae7e7e7",
   "metadata": {},
   "outputs": [
    {
     "ename": "ModuleNotFoundError",
     "evalue": "No module named 'pandas'",
     "output_type": "error",
     "traceback": [
      "\u001b[1;31m---------------------------------------------------------------------------\u001b[0m",
      "\u001b[1;31mModuleNotFoundError\u001b[0m                       Traceback (most recent call last)",
      "Cell \u001b[1;32mIn[2], line 1\u001b[0m\n\u001b[1;32m----> 1\u001b[0m \u001b[38;5;28;01mimport\u001b[39;00m \u001b[38;5;21;01mpandas\u001b[39;00m \u001b[38;5;28;01mas\u001b[39;00m \u001b[38;5;21;01mpd\u001b[39;00m\n\u001b[0;32m      3\u001b[0m \u001b[38;5;66;03m# Create sample data\u001b[39;00m\n\u001b[0;32m      4\u001b[0m time_data \u001b[38;5;241m=\u001b[39m {\n\u001b[0;32m      5\u001b[0m     \u001b[38;5;124m'\u001b[39m\u001b[38;5;124mTime_Key\u001b[39m\u001b[38;5;124m'\u001b[39m: [\u001b[38;5;241m1\u001b[39m, \u001b[38;5;241m2\u001b[39m, \u001b[38;5;241m3\u001b[39m, \u001b[38;5;241m4\u001b[39m, \u001b[38;5;241m5\u001b[39m, \u001b[38;5;241m6\u001b[39m],\n\u001b[0;32m      6\u001b[0m     \u001b[38;5;124m'\u001b[39m\u001b[38;5;124mYear\u001b[39m\u001b[38;5;124m'\u001b[39m: [\u001b[38;5;241m2023\u001b[39m, \u001b[38;5;241m2023\u001b[39m, \u001b[38;5;241m2023\u001b[39m, \u001b[38;5;241m2023\u001b[39m, \u001b[38;5;241m2024\u001b[39m, \u001b[38;5;241m2024\u001b[39m],\n\u001b[1;32m   (...)\u001b[0m\n\u001b[0;32m      9\u001b[0m     \u001b[38;5;124m'\u001b[39m\u001b[38;5;124mDay\u001b[39m\u001b[38;5;124m'\u001b[39m: [\u001b[38;5;241m1\u001b[39m, \u001b[38;5;241m1\u001b[39m, \u001b[38;5;241m1\u001b[39m, \u001b[38;5;241m1\u001b[39m, \u001b[38;5;241m1\u001b[39m, \u001b[38;5;241m1\u001b[39m]\n\u001b[0;32m     10\u001b[0m }\n",
      "\u001b[1;31mModuleNotFoundError\u001b[0m: No module named 'pandas'"
     ]
    }
   ],
   "source": [
    "import pandas as pd\n",
    "\n",
    "# Create sample data\n",
    "time_data = {\n",
    "    'Time_Key': [1, 2, 3, 4, 5, 6],\n",
    "    'Year': [2023, 2023, 2023, 2023, 2024, 2024],\n",
    "    'Quarter': [1, 1, 2, 2, 1, 1],\n",
    "    'Month': [1, 2, 3, 4, 1, 2],\n",
    "    'Day': [1, 1, 1, 1, 1, 1]\n",
    "}\n",
    "\n",
    "product_data = {\n",
    "    'Product_Key': [1, 2, 3, 4],\n",
    "    'Product_ID': ['P001', 'P002', 'P003', 'P004'],\n",
    "    'Product_Name': ['Product 1', 'Product 2', 'Product 3', 'Product 4'],\n",
    "    'Category': ['Electronics', 'Clothing', 'Electronics', 'Clothing'],\n",
    "    'Brand': ['Brand A', 'Brand B', 'Brand A', 'Brand B']\n",
    "}\n",
    "\n",
    "store_data = {\n",
    "    'Store_Key': [1, 2],\n",
    "    'Store_ID': ['S001', 'S002'],\n",
    "    'Store_Name': ['Store 1', 'Store 2'],\n",
    "    'Location': ['Location 1', 'Location 2'],\n",
    "    'Region': ['North', 'South']\n",
    "}\n",
    "\n",
    "customer_data = {\n",
    "    'Customer_Key': [1, 2],\n",
    "    'Customer_ID': ['C001', 'C002'],\n",
    "    'Customer_Name': ['Customer 1', 'Customer 2'],\n",
    "    'Age': [30, 40],\n",
    "    'Gender': ['M', 'F'],\n",
    "    'Membership_Level': ['Gold', 'Silver']\n",
    "}\n",
    "\n",
    "sales_data = {\n",
    "    'Sales_ID': [1, 2, 3, 4, 5, 6],\n",
    "    'Time_Key': [1, 2, 3, 4, 5, 6],\n",
    "    'Product_Key': [1, 2, 3, 4, 1, 2],\n",
    "    'Store_Key': [1, 2, 1, 2, 1, 2],\n",
    "    'Customer_Key': [1, 2, 1, 2, 1, 2],\n",
    "    'Sales_Amount': [100, 200, 150, 250, 300, 350],\n",
    "    'Quantity_Sold': [1, 2, 1, 2, 3, 4],\n",
    "    'Discount_Amount': [10, 20, 15, 25, 30, 35]\n",
    "}\n",
    "\n",
    "time_df = pd.DataFrame(time_data)\n",
    "product_df = pd.DataFrame(product_data)\n",
    "store_df = pd.DataFrame(store_data)\n",
    "customer_df = pd.DataFrame(customer_data)\n",
    "sales_df = pd.DataFrame(sales_data)\n"
   ]
  },
  {
   "cell_type": "code",
   "execution_count": 4,
   "id": "ee83375c",
   "metadata": {},
   "outputs": [
    {
     "name": "stdout",
     "output_type": "stream",
     "text": [
      "   Year  Quarter  Sales_Amount  Quantity_Sold\n",
      "0  2023        1           300              3\n",
      "1  2023        2           400              3\n",
      "2  2024        1           650              7\n"
     ]
    }
   ],
   "source": [
    "# Roll-Up: Aggregate sales by Year and Quarter\n",
    "roll_up_df = sales_df.merge(time_df, on='Time_Key').groupby(['Year', 'Quarter']).agg({\n",
    "    'Sales_Amount': 'sum',\n",
    "    'Quantity_Sold': 'sum'\n",
    "}).reset_index()\n",
    "print(roll_up_df)\n"
   ]
  },
  {
   "cell_type": "code",
   "execution_count": 5,
   "id": "864ab00a",
   "metadata": {},
   "outputs": [
    {
     "name": "stdout",
     "output_type": "stream",
     "text": [
      "   Year  Quarter  Month  Sales_Amount  Quantity_Sold\n",
      "0  2023        1      1           100              1\n",
      "1  2023        1      2           200              2\n",
      "2  2023        2      3           150              1\n",
      "3  2023        2      4           250              2\n",
      "4  2024        1      1           300              3\n",
      "5  2024        1      2           350              4\n"
     ]
    }
   ],
   "source": [
    "# Drill-Down: Detail sales by Year, Quarter, and Month\n",
    "drill_down_df = sales_df.merge(time_df, on='Time_Key').groupby(['Year', 'Quarter', 'Month']).agg({\n",
    "    'Sales_Amount': 'sum',\n",
    "    'Quantity_Sold': 'sum'\n",
    "}).reset_index()\n",
    "print(drill_down_df)\n"
   ]
  },
  {
   "cell_type": "code",
   "execution_count": 6,
   "id": "493e4210",
   "metadata": {},
   "outputs": [
    {
     "name": "stdout",
     "output_type": "stream",
     "text": [
      "   Year  Quarter  Month     Category  Sales_Amount  Quantity_Sold\n",
      "0  2023        1      1  Electronics           100              1\n",
      "1  2023        1      2     Clothing           200              2\n",
      "2  2023        2      3  Electronics           150              1\n",
      "3  2023        2      4     Clothing           250              2\n"
     ]
    }
   ],
   "source": [
    "# Slice: Filter sales data for the Year 2023\n",
    "slice_df = sales_df.merge(time_df, on='Time_Key').merge(product_df, on='Product_Key')\n",
    "slice_df = slice_df[slice_df['Year'] == 2023].groupby(['Year', 'Quarter', 'Month', 'Category']).agg({\n",
    "    'Sales_Amount': 'sum',\n",
    "    'Quantity_Sold': 'sum'\n",
    "}).reset_index()\n",
    "print(slice_df)\n"
   ]
  },
  {
   "cell_type": "code",
   "execution_count": 7,
   "id": "9ddfe883",
   "metadata": {},
   "outputs": [
    {
     "name": "stdout",
     "output_type": "stream",
     "text": [
      "   Year  Quarter  Month Region  Sales_Amount  Quantity_Sold\n",
      "0  2023        1      1  North           100              1\n"
     ]
    }
   ],
   "source": [
    "# Dice: Filter sales data for Q1 of 2023 for the 'Electronics' category\n",
    "dice_df = sales_df.merge(time_df, on='Time_Key').merge(product_df, on='Product_Key').merge(store_df, on='Store_Key')\n",
    "dice_df = dice_df[(dice_df['Year'] == 2023) & (dice_df['Quarter'] == 1) & (dice_df['Category'] == 'Electronics')].groupby(['Year', 'Quarter', 'Month', 'Region']).agg({\n",
    "    'Sales_Amount': 'sum',\n",
    "    'Quantity_Sold': 'sum'\n",
    "}).reset_index()\n",
    "print(dice_df)\n"
   ]
  },
  {
   "cell_type": "code",
   "execution_count": null,
   "id": "8b62d60e",
   "metadata": {},
   "outputs": [],
   "source": []
  }
 ],
 "metadata": {
  "kernelspec": {
   "display_name": "Python 3",
   "language": "python",
   "name": "python3"
  },
  "language_info": {
   "codemirror_mode": {
    "name": "ipython",
    "version": 3
   },
   "file_extension": ".py",
   "mimetype": "text/x-python",
   "name": "python",
   "nbconvert_exporter": "python",
   "pygments_lexer": "ipython3",
   "version": "3.11.9"
  }
 },
 "nbformat": 4,
 "nbformat_minor": 5
}
