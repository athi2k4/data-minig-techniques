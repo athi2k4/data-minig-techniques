{
 "cells": [
  {
   "cell_type": "code",
   "execution_count": 1,
   "id": "3a5bb93c-34a9-4d3b-947d-173db68f44de",
   "metadata": {},
   "outputs": [],
   "source": [
    "import pandas as pd\n",
    "import numpy as np\n",
    "import matplotlib.pyplot as plt\n",
    "\n",
    "# Creating dataframes with missing values\n",
    "item_data = {\n",
    "    'Item_ID': [1, 2, 3],\n",
    "    'Item_Name': ['FootBall', 'Knife', 'Tablet'],\n",
    "    'Category': ['Sports', 'Electronics', 'Electronics'],\n",
    "    'Brand': ['Kipsta', 'Pigeon', 'Sony']\n",
    "}\n",
    "item_df = pd.DataFrame(item_data)\n",
    "\n",
    "time_data = {\n",
    "    'Time_ID': [1, 2, 3],\n",
    "    'Date': pd.date_range(start='2023-01-01', periods=3, freq='D'),\n",
    "    'Month': ['January', 'January', 'March'],\n",
    "    'Quarter': ['Q1', 'Q1', 'Q3'],\n",
    "    'Year': [2023, 2023, 2023]\n",
    "}\n",
    "time_df = pd.DataFrame(time_data)\n",
    "\n",
    "store_data = {\n",
    "    'Store_ID': [1, 2, 3],\n",
    "    'Store_Name': ['Decathlon', 'Big Bazaar', 'Reliance Digital'],\n",
    "    'Location': ['Banglore', 'Coimbatore', 'Hosur'],\n",
    "    'Region': ['North', 'South', 'West']\n",
    "}\n",
    "store_df = pd.DataFrame(store_data)\n",
    "\n",
    "sales_data = {\n",
    "    'Sales_ID': [1, 2, 3],\n",
    "    'Item_ID': [1, 2, 3],\n",
    "    'Time_ID': [1, 2, 3],\n",
    "    'Store_ID': [1, 2, 3],\n",
    "    'Units_Sold': [1000, 200, np.nan],  # Introducing a NaN value\n",
    "    'Revenue': [500000, np.nan, 300000]  # Introducing a NaN value\n",
    "}\n",
    "sales_df = pd.DataFrame(sales_data)\n"
   ]
  },
  {
   "cell_type": "code",
   "execution_count": 2,
   "id": "c398b8b9-3de6-408d-afd5-eecee087ce6c",
   "metadata": {},
   "outputs": [
    {
     "name": "stdout",
     "output_type": "stream",
     "text": [
      "Missing Values in Sales Data:\n",
      " Sales_ID      0\n",
      "Item_ID       0\n",
      "Time_ID       0\n",
      "Store_ID      0\n",
      "Units_Sold    1\n",
      "Revenue       1\n",
      "dtype: int64\n"
     ]
    }
   ],
   "source": [
    "print(\"Missing Values in Sales Data:\\n\", sales_df.isna().sum())\n"
   ]
  },
  {
   "cell_type": "code",
   "execution_count": 3,
   "id": "cd589207-e823-4ad7-8bf1-789956500020",
   "metadata": {},
   "outputs": [
    {
     "name": "stdout",
     "output_type": "stream",
     "text": [
      "Sales Data after Dropping Missing Values:\n",
      "    Sales_ID  Item_ID  Time_ID  Store_ID  Units_Sold   Revenue\n",
      "0         1        1        1         1      1000.0  500000.0\n"
     ]
    }
   ],
   "source": [
    "# Dropping rows with any missing values\n",
    "cleaned_sales_df = sales_df.dropna()\n",
    "print(\"Sales Data after Dropping Missing Values:\\n\", cleaned_sales_df)\n"
   ]
  },
  {
   "cell_type": "code",
   "execution_count": 4,
   "id": "fe2e0b84-99fd-4519-9edd-d3d0cd4d7629",
   "metadata": {},
   "outputs": [
    {
     "name": "stdout",
     "output_type": "stream",
     "text": [
      "Mean: 600.0, Median: 600.0, Mode: 200.0, Std Dev: 565.685424949238, Variance: 320000.0\n",
      "\n",
      "Sales Data after Filling Missing Values with Mean:\n",
      "    Sales_ID  Item_ID  Time_ID  Store_ID  Units_Sold   Revenue\n",
      "0         1        1        1         1      1000.0  500000.0\n",
      "1         2        2        2         2       200.0  400000.0\n",
      "2         3        3        3         3       600.0  300000.0\n"
     ]
    }
   ],
   "source": [
    "# Calculate statistics\n",
    "mean_units_sold = sales_df['Units_Sold'].mean()\n",
    "median_units_sold = sales_df['Units_Sold'].median()\n",
    "mode_units_sold = sales_df['Units_Sold'].mode()[0]\n",
    "std_units_sold = sales_df['Units_Sold'].std()\n",
    "variance_units_sold = sales_df['Units_Sold'].var()\n",
    "\n",
    "print(f\"Mean: {mean_units_sold}, Median: {median_units_sold}, Mode: {mode_units_sold}, Std Dev: {std_units_sold}, Variance: {variance_units_sold}\")\n",
    "\n",
    "# Fill missing values with mean, median, and mode\n",
    "sales_df_filled_mean = sales_df.fillna({'Units_Sold': mean_units_sold, 'Revenue': sales_df['Revenue'].mean()})\n",
    "print(\"\\nSales Data after Filling Missing Values with Mean:\\n\", sales_df_filled_mean)\n"
   ]
  },
  {
   "cell_type": "code",
   "execution_count": 5,
   "id": "ce01ba7d-979a-4f4b-8171-03924dcdf8f1",
   "metadata": {},
   "outputs": [
    {
     "data": {
      "image/png": "[encoded data removed]",
      "text/plain": [
       "<Figure size 640x480 with 1 Axes>"
      ]
     },
     "metadata": {},
     "output_type": "display_data"
    }
   ],
   "source": [
    "# Histogram for Units Sold\n",
    "plt.hist(sales_df['Units_Sold'].dropna(), bins=10, edgecolor='black')\n",
    "plt.title('Histogram of Units Sold')\n",
    "plt.xlabel('Units Sold')\n",
    "plt.ylabel('Frequency')\n",
    "plt.show()\n"
   ]
  },
  {
   "cell_type": "code",
   "execution_count": 6,
   "id": "4e43230f-87fe-42ea-af47-bfb803ee9e99",
   "metadata": {},
   "outputs": [
    {
     "name": "stdout",
     "output_type": "stream",
     "text": [
      "\n",
      "Sampled Data:\n",
      "    Sales_ID  Item_ID  Time_ID  Store_ID  Units_Sold   Revenue\n",
      "0         1        1        1         1      1000.0  500000.0\n",
      "2         3        3        3         3         NaN  300000.0\n"
     ]
    }
   ],
   "source": [
    "# Random sampling of 2 rows\n",
    "sampled_df = sales_df.sample(n=2, random_state=1)\n",
    "print(\"\\nSampled Data:\\n\", sampled_df)\n"
   ]
  },
  {
   "cell_type": "code",
   "execution_count": 7,
   "id": "548ad1d4-b127-415d-950f-701eb34bbfb4",
   "metadata": {},
   "outputs": [
    {
     "name": "stdout",
     "output_type": "stream",
     "text": [
      "Covariance Matrix:\n",
      "             Units_Sold       Revenue\n",
      "Units_Sold    320000.0           NaN\n",
      "Revenue            NaN  2.000000e+10\n"
     ]
    }
   ],
   "source": [
    "# Compute covariance matrix\n",
    "cov_matrix = sales_df[['Units_Sold', 'Revenue']].cov()\n",
    "print(\"Covariance Matrix:\\n\", cov_matrix)\n"
   ]
  },
  {
   "cell_type": "code",
   "execution_count": 8,
   "id": "ec4d5812-3e22-4a3d-9606-677c88267904",
   "metadata": {},
   "outputs": [
    {
     "name": "stdout",
     "output_type": "stream",
     "text": [
      "\n",
      "Square Root Transformation:\n",
      "    Units_Sold  Units_Sold_Sqrt\n",
      "0      1000.0        31.622777\n",
      "1       200.0        14.142136\n",
      "2         NaN        24.494897\n"
     ]
    }
   ],
   "source": [
    "# Square root transformation\n",
    "sales_df['Units_Sold_Sqrt'] = np.sqrt(sales_df['Units_Sold'].fillna(mean_units_sold))\n",
    "print(\"\\nSquare Root Transformation:\\n\", sales_df[['Units_Sold', 'Units_Sold_Sqrt']])\n"
   ]
  },
  {
   "cell_type": "code",
   "execution_count": 9,
   "id": "7a22dca5-74bd-4568-aa51-c53a2e749c04",
   "metadata": {},
   "outputs": [
    {
     "name": "stdout",
     "output_type": "stream",
     "text": [
      "\n",
      "Cube Root Transformation:\n",
      "    Units_Sold  Units_Sold_CubeRoot\n",
      "0      1000.0            10.000000\n",
      "1       200.0             5.848035\n",
      "2         NaN             8.434327\n"
     ]
    }
   ],
   "source": [
    "# Cube root transformation\n",
    "sales_df['Units_Sold_CubeRoot'] = np.cbrt(sales_df['Units_Sold'].fillna(mean_units_sold))\n",
    "print(\"\\nCube Root Transformation:\\n\", sales_df[['Units_Sold', 'Units_Sold_CubeRoot']])\n"
   ]
  },
  {
   "cell_type": "code",
   "execution_count": 10,
   "id": "42ab3f42-7f5d-4f04-a9c7-daed0d8a3f1c",
   "metadata": {},
   "outputs": [
    {
     "name": "stdout",
     "output_type": "stream",
     "text": [
      "\n",
      "Log Transformation:\n",
      "    Units_Sold  Units_Sold_Log\n",
      "0      1000.0        6.908755\n",
      "1       200.0        5.303305\n",
      "2         NaN        6.398595\n"
     ]
    }
   ],
   "source": [
    "# Log transformation (adding a small constant to avoid log(0))\n",
    "sales_df['Units_Sold_Log'] = np.log1p(sales_df['Units_Sold'].fillna(mean_units_sold))\n",
    "print(\"\\nLog Transformation:\\n\", sales_df[['Units_Sold', 'Units_Sold_Log']])\n"
   ]
  },
  {
   "cell_type": "code",
   "execution_count": 11,
   "id": "5906bf47-4074-43f7-8180-998322cd1739",
   "metadata": {},
   "outputs": [
    {
     "name": "stdout",
     "output_type": "stream",
     "text": [
      "\n",
      "Min-Max Normalization:\n",
      "    Units_Sold  Units_Sold_MinMax\n",
      "0      1000.0                1.0\n",
      "1       200.0                0.0\n",
      "2         NaN                0.5\n"
     ]
    }
   ],
   "source": [
    "def min_max_normalization(series):\n",
    "    return (series - series.min()) / (series.max() - series.min())\n",
    "\n",
    "sales_df['Units_Sold_MinMax'] = min_max_normalization(sales_df['Units_Sold'].fillna(mean_units_sold))\n",
    "print(\"\\nMin-Max Normalization:\\n\", sales_df[['Units_Sold', 'Units_Sold_MinMax']])\n"
   ]
  },
  {
   "cell_type": "code",
   "execution_count": 12,
   "id": "84d6fa7d-a834-4fed-bb04-4bc8207ebb34",
   "metadata": {},
   "outputs": [
    {
     "name": "stdout",
     "output_type": "stream",
     "text": [
      "\n",
      "Z-Score Normalization:\n",
      "    Units_Sold  Units_Sold_ZScore\n",
      "0      1000.0                1.0\n",
      "1       200.0               -1.0\n",
      "2         NaN                0.0\n"
     ]
    }
   ],
   "source": [
    "def z_score_normalization(series):\n",
    "    return (series - series.mean()) / series.std()\n",
    "\n",
    "sales_df['Units_Sold_ZScore'] = z_score_normalization(sales_df['Units_Sold'].fillna(mean_units_sold))\n",
    "print(\"\\nZ-Score Normalization:\\n\", sales_df[['Units_Sold', 'Units_Sold_ZScore']])\n"
   ]
  },
  {
   "cell_type": "code",
   "execution_count": 13,
   "id": "faf0c181-e02e-4c54-aa58-23d753a8e675",
   "metadata": {},
   "outputs": [
    {
     "name": "stdout",
     "output_type": "stream",
     "text": [
      "\n",
      "Decimal Scaling Normalization:\n",
      "    Units_Sold  Units_Sold_DecimalScaling\n",
      "0      1000.0                       0.10\n",
      "1       200.0                       0.02\n",
      "2         NaN                       0.06\n"
     ]
    }
   ],
   "source": [
    "def decimal_scaling_normalization(series):\n",
    "    return series / 10**np.floor(np.log10(series.abs().max()) + 1)\n",
    "\n",
    "sales_df['Units_Sold_DecimalScaling'] = decimal_scaling_normalization(sales_df['Units_Sold'].fillna(mean_units_sold))\n",
    "print(\"\\nDecimal Scaling Normalization:\\n\", sales_df[['Units_Sold', 'Units_Sold_DecimalScaling']])\n"
   ]
  },
  {
   "cell_type": "code",
   "execution_count": null,
   "id": "85193876-9db3-4a8b-9467-c6101d6c32d5",
   "metadata": {},
   "outputs": [],
   "source": []
  },
  {
   "cell_type": "code",
   "execution_count": 14,
   "id": "12238747-9eaa-4218-862c-f87bbd1319bd",
   "metadata": {},
   "outputs": [
    {
     "ename": "ValueError",
     "evalue": "Found input variables with inconsistent numbers of samples: [3, 2]",
     "output_type": "error",
     "traceback": [
      "\u001b[1;31m---------------------------------------------------------------------------\u001b[0m",
      "\u001b[1;31mValueError\u001b[0m                                Traceback (most recent call last)",
      "Cell \u001b[1;32mIn[14], line 11\u001b[0m\n\u001b[0;32m      9\u001b[0m \u001b[38;5;66;03m# Linear regression model\u001b[39;00m\n\u001b[0;32m     10\u001b[0m model \u001b[38;5;241m=\u001b[39m LinearRegression()\n\u001b[1;32m---> 11\u001b[0m \u001b[43mmodel\u001b[49m\u001b[38;5;241;43m.\u001b[39;49m\u001b[43mfit\u001b[49m\u001b[43m(\u001b[49m\u001b[43mX\u001b[49m\u001b[43m,\u001b[49m\u001b[43m \u001b[49m\u001b[43my\u001b[49m\u001b[43m)\u001b[49m\n\u001b[0;32m     13\u001b[0m \u001b[38;5;66;03m# Predictions\u001b[39;00m\n\u001b[0;32m     14\u001b[0m sales_df[\u001b[38;5;124m'\u001b[39m\u001b[38;5;124mRevenue_Predicted\u001b[39m\u001b[38;5;124m'\u001b[39m] \u001b[38;5;241m=\u001b[39m model\u001b[38;5;241m.\u001b[39mpredict(X)\n",
      "File \u001b[1;32mc:\\Users\\athit\\AppData\\Local\\Programs\\Python\\Python312\\Lib\\site-packages\\sklearn\\base.py:1473\u001b[0m, in \u001b[0;36m_fit_context.<locals>.decorator.<locals>.wrapper\u001b[1;34m(estimator, *args, **kwargs)\u001b[0m\n\u001b[0;32m   1466\u001b[0m     estimator\u001b[38;5;241m.\u001b[39m_validate_params()\n\u001b[0;32m   1468\u001b[0m \u001b[38;5;28;01mwith\u001b[39;00m config_context(\n\u001b[0;32m   1469\u001b[0m     skip_parameter_validation\u001b[38;5;241m=\u001b[39m(\n\u001b[0;32m   1470\u001b[0m         prefer_skip_nested_validation \u001b[38;5;129;01mor\u001b[39;00m global_skip_validation\n\u001b[0;32m   1471\u001b[0m     )\n\u001b[0;32m   1472\u001b[0m ):\n\u001b[1;32m-> 1473\u001b[0m     \u001b[38;5;28;01mreturn\u001b[39;00m \u001b[43mfit_method\u001b[49m\u001b[43m(\u001b[49m\u001b[43mestimator\u001b[49m\u001b[43m,\u001b[49m\u001b[43m \u001b[49m\u001b[38;5;241;43m*\u001b[39;49m\u001b[43margs\u001b[49m\u001b[43m,\u001b[49m\u001b[43m \u001b[49m\u001b[38;5;241;43m*\u001b[39;49m\u001b[38;5;241;43m*\u001b[39;49m\u001b[43mkwargs\u001b[49m\u001b[43m)\u001b[49m\n",
      "File \u001b[1;32mc:\\Users\\athit\\AppData\\Local\\Programs\\Python\\Python312\\Lib\\site-packages\\sklearn\\linear_model\\_base.py:609\u001b[0m, in \u001b[0;36mLinearRegression.fit\u001b[1;34m(self, X, y, sample_weight)\u001b[0m\n\u001b[0;32m    605\u001b[0m n_jobs_ \u001b[38;5;241m=\u001b[39m \u001b[38;5;28mself\u001b[39m\u001b[38;5;241m.\u001b[39mn_jobs\n\u001b[0;32m    607\u001b[0m accept_sparse \u001b[38;5;241m=\u001b[39m \u001b[38;5;28;01mFalse\u001b[39;00m \u001b[38;5;28;01mif\u001b[39;00m \u001b[38;5;28mself\u001b[39m\u001b[38;5;241m.\u001b[39mpositive \u001b[38;5;28;01melse\u001b[39;00m [\u001b[38;5;124m\"\u001b[39m\u001b[38;5;124mcsr\u001b[39m\u001b[38;5;124m\"\u001b[39m, \u001b[38;5;124m\"\u001b[39m\u001b[38;5;124mcsc\u001b[39m\u001b[38;5;124m\"\u001b[39m, \u001b[38;5;124m\"\u001b[39m\u001b[38;5;124mcoo\u001b[39m\u001b[38;5;124m\"\u001b[39m]\n\u001b[1;32m--> 609\u001b[0m X, y \u001b[38;5;241m=\u001b[39m \u001b[38;5;28;43mself\u001b[39;49m\u001b[38;5;241;43m.\u001b[39;49m\u001b[43m_validate_data\u001b[49m\u001b[43m(\u001b[49m\n\u001b[0;32m    610\u001b[0m \u001b[43m    \u001b[49m\u001b[43mX\u001b[49m\u001b[43m,\u001b[49m\u001b[43m \u001b[49m\u001b[43my\u001b[49m\u001b[43m,\u001b[49m\u001b[43m \u001b[49m\u001b[43maccept_sparse\u001b[49m\u001b[38;5;241;43m=\u001b[39;49m\u001b[43maccept_sparse\u001b[49m\u001b[43m,\u001b[49m\u001b[43m \u001b[49m\u001b[43my_numeric\u001b[49m\u001b[38;5;241;43m=\u001b[39;49m\u001b[38;5;28;43;01mTrue\u001b[39;49;00m\u001b[43m,\u001b[49m\u001b[43m \u001b[49m\u001b[43mmulti_output\u001b[49m\u001b[38;5;241;43m=\u001b[39;49m\u001b[38;5;28;43;01mTrue\u001b[39;49;00m\n\u001b[0;32m    611\u001b[0m \u001b[43m\u001b[49m\u001b[43m)\u001b[49m\n\u001b[0;32m    613\u001b[0m has_sw \u001b[38;5;241m=\u001b[39m sample_weight \u001b[38;5;129;01mis\u001b[39;00m \u001b[38;5;129;01mnot\u001b[39;00m \u001b[38;5;28;01mNone\u001b[39;00m\n\u001b[0;32m    614\u001b[0m \u001b[38;5;28;01mif\u001b[39;00m has_sw:\n",
      "File \u001b[1;32mc:\\Users\\athit\\AppData\\Local\\Programs\\Python\\Python312\\Lib\\site-packages\\sklearn\\base.py:650\u001b[0m, in \u001b[0;36mBaseEstimator._validate_data\u001b[1;34m(self, X, y, reset, validate_separately, cast_to_ndarray, **check_params)\u001b[0m\n\u001b[0;32m    648\u001b[0m         y \u001b[38;5;241m=\u001b[39m check_array(y, input_name\u001b[38;5;241m=\u001b[39m\u001b[38;5;124m\"\u001b[39m\u001b[38;5;124my\u001b[39m\u001b[38;5;124m\"\u001b[39m, \u001b[38;5;241m*\u001b[39m\u001b[38;5;241m*\u001b[39mcheck_y_params)\n\u001b[0;32m    649\u001b[0m     \u001b[38;5;28;01melse\u001b[39;00m:\n\u001b[1;32m--> 650\u001b[0m         X, y \u001b[38;5;241m=\u001b[39m \u001b[43mcheck_X_y\u001b[49m\u001b[43m(\u001b[49m\u001b[43mX\u001b[49m\u001b[43m,\u001b[49m\u001b[43m \u001b[49m\u001b[43my\u001b[49m\u001b[43m,\u001b[49m\u001b[43m \u001b[49m\u001b[38;5;241;43m*\u001b[39;49m\u001b[38;5;241;43m*\u001b[39;49m\u001b[43mcheck_params\u001b[49m\u001b[43m)\u001b[49m\n\u001b[0;32m    651\u001b[0m     out \u001b[38;5;241m=\u001b[39m X, y\n\u001b[0;32m    653\u001b[0m \u001b[38;5;28;01mif\u001b[39;00m \u001b[38;5;129;01mnot\u001b[39;00m no_val_X \u001b[38;5;129;01mand\u001b[39;00m check_params\u001b[38;5;241m.\u001b[39mget(\u001b[38;5;124m\"\u001b[39m\u001b[38;5;124mensure_2d\u001b[39m\u001b[38;5;124m\"\u001b[39m, \u001b[38;5;28;01mTrue\u001b[39;00m):\n",
      "File \u001b[1;32mc:\\Users\\athit\\AppData\\Local\\Programs\\Python\\Python312\\Lib\\site-packages\\sklearn\\utils\\validation.py:1291\u001b[0m, in \u001b[0;36mcheck_X_y\u001b[1;34m(X, y, accept_sparse, accept_large_sparse, dtype, order, copy, force_all_finite, ensure_2d, allow_nd, multi_output, ensure_min_samples, ensure_min_features, y_numeric, estimator)\u001b[0m\n\u001b[0;32m   1273\u001b[0m X \u001b[38;5;241m=\u001b[39m check_array(\n\u001b[0;32m   1274\u001b[0m     X,\n\u001b[0;32m   1275\u001b[0m     accept_sparse\u001b[38;5;241m=\u001b[39maccept_sparse,\n\u001b[1;32m   (...)\u001b[0m\n\u001b[0;32m   1286\u001b[0m     input_name\u001b[38;5;241m=\u001b[39m\u001b[38;5;124m\"\u001b[39m\u001b[38;5;124mX\u001b[39m\u001b[38;5;124m\"\u001b[39m,\n\u001b[0;32m   1287\u001b[0m )\n\u001b[0;32m   1289\u001b[0m y \u001b[38;5;241m=\u001b[39m _check_y(y, multi_output\u001b[38;5;241m=\u001b[39mmulti_output, y_numeric\u001b[38;5;241m=\u001b[39my_numeric, estimator\u001b[38;5;241m=\u001b[39mestimator)\n\u001b[1;32m-> 1291\u001b[0m \u001b[43mcheck_consistent_length\u001b[49m\u001b[43m(\u001b[49m\u001b[43mX\u001b[49m\u001b[43m,\u001b[49m\u001b[43m \u001b[49m\u001b[43my\u001b[49m\u001b[43m)\u001b[49m\n\u001b[0;32m   1293\u001b[0m \u001b[38;5;28;01mreturn\u001b[39;00m X, y\n",
      "File \u001b[1;32mc:\\Users\\athit\\AppData\\Local\\Programs\\Python\\Python312\\Lib\\site-packages\\sklearn\\utils\\validation.py:460\u001b[0m, in \u001b[0;36mcheck_consistent_length\u001b[1;34m(*arrays)\u001b[0m\n\u001b[0;32m    458\u001b[0m uniques \u001b[38;5;241m=\u001b[39m np\u001b[38;5;241m.\u001b[39munique(lengths)\n\u001b[0;32m    459\u001b[0m \u001b[38;5;28;01mif\u001b[39;00m \u001b[38;5;28mlen\u001b[39m(uniques) \u001b[38;5;241m>\u001b[39m \u001b[38;5;241m1\u001b[39m:\n\u001b[1;32m--> 460\u001b[0m     \u001b[38;5;28;01mraise\u001b[39;00m \u001b[38;5;167;01mValueError\u001b[39;00m(\n\u001b[0;32m    461\u001b[0m         \u001b[38;5;124m\"\u001b[39m\u001b[38;5;124mFound input variables with inconsistent numbers of samples: \u001b[39m\u001b[38;5;132;01m%r\u001b[39;00m\u001b[38;5;124m\"\u001b[39m\n\u001b[0;32m    462\u001b[0m         \u001b[38;5;241m%\u001b[39m [\u001b[38;5;28mint\u001b[39m(l) \u001b[38;5;28;01mfor\u001b[39;00m l \u001b[38;5;129;01min\u001b[39;00m lengths]\n\u001b[0;32m    463\u001b[0m     )\n",
      "\u001b[1;31mValueError\u001b[0m: Found input variables with inconsistent numbers of samples: [3, 2]"
     ]
    }
   ],
   "source": [
    "#ERORR CODE \n",
    "\n",
    "from sklearn.linear_model import LinearRegression\n",
    "\n",
    "# Preparing the data for linear regression\n",
    "X = sales_df[['Units_Sold_ZScore']].dropna()\n",
    "y = sales_df['Revenue'].dropna()\n",
    "\n",
    "# Linear regression model\n",
    "model = LinearRegression()\n",
    "model.fit(X, y)\n",
    "\n",
    "# Predictions\n",
    "sales_df['Revenue_Predicted'] = model.predict(X)\n",
    "\n",
    "print(\"\\nLinear Regression Predictions:\\n\", sales_df[['Units_Sold_ZScore', 'Revenue', 'Revenue_Predicted']])\n"
   ]
  },
  {
   "cell_type": "code",
   "execution_count": null,
   "id": "7005d9cc-d8aa-4b25-ba3e-e128dfd075f0",
   "metadata": {},
   "outputs": [],
   "source": [
    "#EORR CODE\n",
    "from sklearn.decomposition import PCA\n",
    "from sklearn.preprocessing import StandardScaler\n",
    "\n",
    "# Preparing the data\n",
    "features = sales_df[['Units_Sold', 'Revenue']].dropna()\n",
    "scaler = StandardScaler()\n",
    "scaled_features = scaler.fit_transform(features)\n",
    "\n",
    "# Applying PCA\n",
    "pca = PCA(n_components=2)\n",
    "principal_components = pca.fit_transform(scaled_features)\n",
    "pca_df = pd.DataFrame(data=principal_components, columns=['PC1', 'PC2'])\n",
    "print(\"\\nPCA Result:\\n\", pca_df)\n",
    "\n",
    "# Scatter plot for PCA result\n",
    "plt.scatter(pca_df['PC1'], pca_df['PC2'])\n",
    "plt.title('PCA Result')\n",
    "plt.xlabel('Principal Component 1')\n",
    "plt.ylabel('Principal Component 2')\n",
    "plt.show()\n"
   ]
  },
  {
   "cell_type": "code",
   "execution_count": null,
   "id": "c70c9522-fdb5-4bb7-bbcd-0bcc5f3ad238",
   "metadata": {},
   "outputs": [],
   "source": []
  },
  {
   "cell_type": "code",
   "execution_count": null,
   "id": "5ef0e3d0-8e55-49cd-a68f-2558841633b7",
   "metadata": {},
   "outputs": [],
   "source": []
  },
  {
   "cell_type": "code",
   "execution_count": null,
   "id": "2888065b-6afb-4e60-952a-bebd86d797ab",
   "metadata": {},
   "outputs": [],
   "source": []
  },
  {
   "cell_type": "code",
   "execution_count": null,
   "id": "f50cb0d1-5b06-4fbe-8d26-3e6dbbbbd628",
   "metadata": {},
   "outputs": [],
   "source": []
  },
  {
   "cell_type": "code",
   "execution_count": null,
   "id": "86455bc6-ea8e-499e-9140-aace617debd8",
   "metadata": {},
   "outputs": [],
   "source": []
  },
  {
   "cell_type": "code",
   "execution_count": null,
   "id": "653aeffe-e4ef-4625-b592-383aad665a81",
   "metadata": {},
   "outputs": [],
   "source": []
  },
  {
   "cell_type": "code",
   "execution_count": null,
   "id": "d34c49d2-4c21-4401-bdd1-41fdb6b490e8",
   "metadata": {},
   "outputs": [],
   "source": []
  }
 ],
 "metadata": {
  "kernelspec": {
   "display_name": "Python 3",
   "language": "python",
   "name": "python3"
  },
  "language_info": {
   "codemirror_mode": {
    "name": "ipython",
    "version": 3
   },
   "file_extension": ".py",
   "mimetype": "text/x-python",
   "name": "python",
   "nbconvert_exporter": "python",
   "pygments_lexer": "ipython3",
   "version": "3.12.1"
  }
 },
 "nbformat": 4,
 "nbformat_minor": 5
}
